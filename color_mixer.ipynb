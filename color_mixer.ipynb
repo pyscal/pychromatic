{
 "cells": [
  {
   "cell_type": "code",
   "execution_count": 184,
   "metadata": {},
   "outputs": [],
   "source": [
    "import matplotlib.gridspec as gridspec\n",
    "import matplotlib.pyplot as plt\n",
    "import colorsys\n",
    "import numpy as np\n",
    "import matplotlib.colors as mc"
   ]
  },
  {
   "cell_type": "code",
   "execution_count": 2,
   "metadata": {},
   "outputs": [],
   "source": [
    "colors = ['#ccece6', '#99d8c9', '#66c2a4', '#41ae76', '#238b45', '#006d2c', '#00441b']"
   ]
  },
  {
   "cell_type": "code",
   "execution_count": 110,
   "metadata": {},
   "outputs": [],
   "source": [
    "def hex_to_rgb(hexval):\n",
    "    d = hexval.strip('#')\n",
    "    rgb = [int(d[x:x+2], 16) for x in range(0, len(d), 2)]\n",
    "    return rgb\n",
    "\n",
    "def rgb_to_hex(rgb):\n",
    "    #decide if rgbs are floating points between 0 or 1\n",
    "    if all((val >= 0) and (val<=1) and isinstance(val, float) for val in rgb):\n",
    "        #convert to values within 255\n",
    "        rgb = [int(x*255) for x in rgb]\n",
    "    if all((val >= 0) and (val<=255) for val in rgb):\n",
    "        return \"#{:02x}{:02x}{:02x}\".format(int(rgb[0]),int(rgb[1]),int(rgb[2]))\n",
    "    else:\n",
    "        raise ValueError(\"rgb values should be within 0-255\")\n",
    "\n",
    "def rgb_to_hls(rgbval):\n",
    "    h, l, s = colorsys.rgb_to_hls(rgbval[0]/float(255), rgbval[1]/float(255), rgbval[2]/float(255))\n",
    "    return [h, l, s]\n",
    "\n",
    "def hls_to_rgb(hls):\n",
    "    rgb = colorsys.hls_to_rgb(hls[0], hls[1], hls[2])\n",
    "    rgb = [int(x*255) for x in rgb]\n",
    "    return rgb"
   ]
  },
  {
   "cell_type": "code",
   "execution_count": 143,
   "metadata": {},
   "outputs": [],
   "source": [
    "def brighten(color, fraction=0.05):\n",
    "    \n",
    "    rgbval = hex_to_rgb(color)\n",
    "    hls = rgb_to_hls(rgbval)\n",
    "    \n",
    "    #now adjust luminescence - \n",
    "    hls[1] =min((1+fraction)*hls[1], 1)\n",
    "    \n",
    "    rgb = colorsys.hls_to_rgb(hls[0], hls[1], hls[2])\n",
    "    hexv = rgb_to_hex(rgb)\n",
    "    return hexv"
   ]
  },
  {
   "cell_type": "code",
   "execution_count": 144,
   "metadata": {},
   "outputs": [],
   "source": [
    "def mix_colors(color1, color2, ratio=0.5):\n",
    "    \n",
    "    rgb1 = hex_to_rgb(color1)\n",
    "    rgb2 = hex_to_rgb(color2)\n",
    "    \n",
    "    rgb = [ratio*rgb1[x] + (1-ratio)*rgb2[x] for x in range(3)]\n",
    "    hexv = rgb_to_hex(rgb)\n",
    "    \n",
    "    return hexv"
   ]
  },
  {
   "cell_type": "code",
   "execution_count": 177,
   "metadata": {},
   "outputs": [],
   "source": [
    "def find_intermediate_colors(color1, color2, colors=1, ignore_edges=False):\n",
    "\n",
    "    rgb1 = hex_to_rgb(color1)\n",
    "    rgb2 = hex_to_rgb(color2)\n",
    "\n",
    "    #now find intermediate points\n",
    "    rpoints = np.linspace(rgb1[0], rgb2[0], colors+2)\n",
    "    gpoints = np.linspace(rgb1[1], rgb2[1], colors+2)\n",
    "    bpoints = np.linspace(rgb1[2], rgb2[2], colors+2)\n",
    "    \n",
    "    #stack to pairs\n",
    "    if ignore_edges:\n",
    "        new_rgbs = np.stack((rpoints[1:-1], gpoints[1:-1], bpoints[1:-1]), axis=-1)\n",
    "    else:\n",
    "        new_rgbs = np.stack((rpoints, gpoints, bpoints), axis=-1)\n",
    "    \n",
    "    #convert to hexvals\n",
    "    hexvals = [rgb_to_hex(rgb) for rgb in new_rgbs]\n",
    "    return hexvals"
   ]
  },
  {
   "cell_type": "code",
   "execution_count": 185,
   "metadata": {},
   "outputs": [],
   "source": [
    "def create_colormap(colors):\n",
    "    cmap = mc.LinearSegmentedColormap.from_list(\"\", colors)\n",
    "    return cmap"
   ]
  },
  {
   "cell_type": "code",
   "execution_count": 112,
   "metadata": {},
   "outputs": [],
   "source": [
    "def plot_colors(colors):\n",
    "    fig = plt.figure(figsize=[len(colors), 1.5])\n",
    "    spec = gridspec.GridSpec(ncols=len(colors), nrows=2, figure=fig)\n",
    "\n",
    "    for count, color in enumerate(colors):\n",
    "        ax1 = fig.add_subplot(spec[0, count])\n",
    "        ax1.fill([0,1,1,0],[0,0,1,1], color=color)\n",
    "        ax1.set_ylim(0,1)\n",
    "        ax1.set_xlim(0,1)\n",
    "        plt.axis(\"off\") \n",
    "        ax2 = fig.add_subplot(spec[1, count])\n",
    "        ax2.plot([0,1],[0.25,0.25], color=color, linewidth=3)\n",
    "        ax2.set_ylim(0,0.5)\n",
    "        ax2.set_xlim(0,0.5)\n",
    "        plt.axis(\"off\") \n",
    "    plt.subplots_adjust(wspace=0, hspace=0)"
   ]
  },
  {
   "cell_type": "code",
   "execution_count": 113,
   "metadata": {},
   "outputs": [
    {
     "data": {
      "image/png": "[encoded data removed]",
      "text/plain": [
       "<Figure size 504x108 with 14 Axes>"
      ]
     },
     "metadata": {
      "needs_background": "light"
     },
     "output_type": "display_data"
    }
   ],
   "source": [
    "plot_colors(colors)"
   ]
  },
  {
   "cell_type": "code",
   "execution_count": 172,
   "metadata": {},
   "outputs": [
    {
     "data": {
      "image/png": "[encoded data removed]",
      "text/plain": [
       "<Figure size 144x108 with 4 Axes>"
      ]
     },
     "metadata": {
      "needs_background": "light"
     },
     "output_type": "display_data"
    }
   ],
   "source": [
    "dcolor = brighten('#FDD835', 0.5)\n",
    "ar = [dcolor, '#FDD835']\n",
    "plot_colors(ar)"
   ]
  },
  {
   "cell_type": "code",
   "execution_count": 150,
   "metadata": {},
   "outputs": [
    {
     "data": {
      "image/png": "[encoded data removed]",
      "text/plain": [
       "<Figure size 216x108 with 6 Axes>"
      ]
     },
     "metadata": {
      "needs_background": "light"
     },
     "output_type": "display_data"
    }
   ],
   "source": [
    "y1 = '#FDD835'\n",
    "y2 = '#E64A19'\n",
    "y3 = mix_colors(y1, y2, 0.2)\n",
    "plot_colors([y1, y3, y2])"
   ]
  },
  {
   "cell_type": "code",
   "execution_count": 180,
   "metadata": {},
   "outputs": [
    {
     "data": {
      "image/png": "[encoded data removed]",
      "text/plain": [
       "<Figure size 216x108 with 6 Axes>"
      ]
     },
     "metadata": {
      "needs_background": "light"
     },
     "output_type": "display_data"
    }
   ],
   "source": [
    "y1 = '#FDD835'\n",
    "y2 = '#E64A19'\n",
    "y3 = find_intermediate_colors(y1, y2, 1)\n",
    "plot_colors(y3)"
   ]
  },
  {
   "cell_type": "code",
   "execution_count": 182,
   "metadata": {},
   "outputs": [
    {
     "data": {
      "image/png": "[encoded data removed]",
      "text/plain": [
       "<Figure size 432x288 with 2 Axes>"
      ]
     },
     "metadata": {
      "needs_background": "light"
     },
     "output_type": "display_data"
    }
   ],
   "source": [
    "\n",
    "\n"
   ]
  }
 ],
 "metadata": {
  "kernelspec": {
   "display_name": "Python (myenv)",
   "language": "python",
   "name": "myenv"
  },
  "language_info": {
   "codemirror_mode": {
    "name": "ipython",
    "version": 3
   },
   "file_extension": ".py",
   "mimetype": "text/x-python",
   "name": "python",
   "nbconvert_exporter": "python",
   "pygments_lexer": "ipython3",
   "version": "3.7.4"
  }
 },
 "nbformat": 4,
 "nbformat_minor": 4
}
