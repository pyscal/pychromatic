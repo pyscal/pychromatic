{
 "cells": [
  {
   "cell_type": "code",
   "execution_count": 1,
   "id": "01b91805-447f-4684-89ec-3b7cb045d052",
   "metadata": {},
   "outputs": [],
   "source": [
    "from pychromatic import Palette"
   ]
  },
  {
   "cell_type": "code",
   "execution_count": 2,
   "id": "50b10a97-977d-4409-ac6e-f21b9e81371a",
   "metadata": {},
   "outputs": [
    {
     "data": {
      "image/png": "[encoded data removed]",
      "text/plain": [
       "<Figure size 432x36 with 24 Axes>"
      ]
     },
     "metadata": {
      "needs_background": "light"
     },
     "output_type": "display_data"
    },
    {
     "data": {
      "text/plain": [
       "pastels"
      ]
     },
     "execution_count": 2,
     "metadata": {},
     "output_type": "execute_result"
    }
   ],
   "source": [
    "palette = Palette(palette=\"pastels\")\n",
    "palette"
   ]
  },
  {
   "cell_type": "code",
   "execution_count": 3,
   "id": "8d97f3d0-b31f-442f-b4fa-8fc73bf79829",
   "metadata": {},
   "outputs": [
    {
     "data": {
      "image/png": "[encoded data removed]",
      "text/plain": [
       "<Figure size 432x36 with 24 Axes>"
      ]
     },
     "metadata": {
      "needs_background": "light"
     },
     "output_type": "display_data"
    }
   ],
   "source": [
    "palette.show()"
   ]
  },
  {
   "cell_type": "code",
   "execution_count": 4,
   "id": "310d93bc-3bf1-46df-9a48-afcc01ba7129",
   "metadata": {},
   "outputs": [
    {
     "data": {
      "image/png": "[encoded data removed]",
      "text/plain": [
       "<Figure size 72x36 with 4 Axes>"
      ]
     },
     "metadata": {
      "needs_background": "light"
     },
     "output_type": "display_data"
    }
   ],
   "source": [
    "palette.darken(\"color10\", fraction=0.5)"
   ]
  },
  {
   "cell_type": "code",
   "execution_count": 5,
   "id": "da6acdbc-9631-4c56-890b-cd31e41d43fa",
   "metadata": {},
   "outputs": [
    {
     "data": {
      "image/png": "[encoded data removed]",
      "text/plain": [
       "<Figure size 72x36 with 4 Axes>"
      ]
     },
     "metadata": {
      "needs_background": "light"
     },
     "output_type": "display_data"
    }
   ],
   "source": [
    "palette.brighten(\"color4\", fraction=0.2)"
   ]
  },
  {
   "cell_type": "code",
   "execution_count": 6,
   "id": "79598cad-ccce-4078-8ed0-62bc0b0af4b3",
   "metadata": {},
   "outputs": [
    {
     "data": {
      "image/png": "[encoded data removed]",
      "text/plain": [
       "<Figure size 108x36 with 6 Axes>"
      ]
     },
     "metadata": {
      "needs_background": "light"
     },
     "output_type": "display_data"
    }
   ],
   "source": [
    "palette.mix(\"color1\", \"color2\")"
   ]
  },
  {
   "cell_type": "code",
   "execution_count": 7,
   "id": "50622755-0e4f-4d37-a21f-58f50ab5c798",
   "metadata": {},
   "outputs": [],
   "source": [
    "cmap =  palette.get_cmap()"
   ]
  },
  {
   "cell_type": "code",
   "execution_count": 8,
   "id": "16f8629e-13d2-43cc-b9dd-05d873b2c5cf",
   "metadata": {},
   "outputs": [
    {
     "data": {
      "image/png": "[encoded data removed]",
      "text/html": [
       "<div style=\"vertical-align: middle;\"><strong></strong> </div><div class=\"cmap\"><img alt=\" colormap\" title=\"\" style=\"border: 1px solid #555;\" src=\"data:image/png;base64,iVBORw0KGgoAAAANSUhEUgAAAgAAAABACAYAAABsv8+/AAAAD3RFWHRUaXRsZQAgY29sb3JtYXCKlOmYAAAAFXRFWHREZXNjcmlwdGlvbgAgY29sb3JtYXAQltASAAAAMHRFWHRBdXRob3IATWF0cGxvdGxpYiB2My41LjIsIGh0dHBzOi8vbWF0cGxvdGxpYi5vcmfCWnicAAAAMnRFWHRTb2Z0d2FyZQBNYXRwbG90bGliIHYzLjUuMiwgaHR0cHM6Ly9tYXRwbG90bGliLm9yZ+z857sAAAKtSURBVHic7dZRkppAEAbgBlw1h8+5coCcJZusoORhBlKMi7pVeevve+nqnmGwwNK/+/7zxxwRcexvUepc6lDqqenX9VpP7Xztb4+vf3L+fOsiImKa+oiIuNY6TcN2fu139jX9dXhx3+f3i+s1IiIO0xgREcP1sqmHtR+3/bQzb6/fPffzedzK8/0YjhERcRneal9rf9z0l535ur4zX/bfnV/v+9GXfhwOERFxio9aL49rt9133N1f93Wfrx/bfc16fe1RX2dMff1e1fnYzpd+aPovz7f3WeZdlOd1mE9P6vG1ffHivp3z+igfsHybIm7dvK3/aT6/un+udazXjbfalzpP86a/3/daf5vqeeP2vLvr6v3qY45ureX9dm9N367XPnbm3dvj65a+vf/QTaXGUsvvRF9rO29rv6x37freeY/PHS/luf15L5/v9/u86b8+n+u89r925s11y3z5/zifygv6dj5s+vPa13qu+5r+3/qhrjfXN+fu3ed4LLX+vay/S2tffy/u58/Wn1xXf5f25rUFADIRAAAgIQEAABISAAAgIQEAABISAAAgIQEAABISAAAgIQEAABISAAAgIQEAABISAAAgIQEAABISAAAgIQEAABISAAAgIQEAABISAAAgIQEAABISAAAgIQEAABISAAAgIQEAABISAAAgIQEAABISAAAgIQEAABISAAAgIQEAABISAAAgIQEAABISAAAgIQEAABISAAAgIQEAABISAAAgIQEAABISAAAgIQEAABISAAAgIQEAABISAAAgIQEAABISAAAgIQEAABISAAAgIQEAABISAAAgIQEAABISAAAgIQEAABISAAAgIQEAABISAAAgIQEAABISAAAgIQEAABISAAAgIQEAABISAAAgIQEAABISAAAgIQEAABL6CyajS/qvCwHXAAAAAElFTkSuQmCC\"></div><div style=\"vertical-align: middle; max-width: 514px; display: flex; justify-content: space-between;\"><div style=\"float: left;\"><div title=\"#8dd3c7ff\" style=\"display: inline-block; width: 1em; height: 1em; margin: 0; vertical-align: middle; border: 1px solid #555; background-color: #8dd3c7ff;\"></div> under</div><div style=\"margin: 0 auto; display: inline-block;\">bad <div title=\"#00000000\" style=\"display: inline-block; width: 1em; height: 1em; margin: 0; vertical-align: middle; border: 1px solid #555; background-color: #00000000;\"></div></div><div style=\"float: right;\">over <div title=\"#c6e9bdff\" style=\"display: inline-block; width: 1em; height: 1em; margin: 0; vertical-align: middle; border: 1px solid #555; background-color: #c6e9bdff;\"></div></div>"
      ],
      "text/plain": [
       "<matplotlib.colors.LinearSegmentedColormap at 0x7fda525efa00>"
      ]
     },
     "execution_count": 8,
     "metadata": {},
     "output_type": "execute_result"
    }
   ],
   "source": [
    "cmap"
   ]
  },
  {
   "cell_type": "code",
   "execution_count": 9,
   "id": "c9b1fdab-f6f5-4170-aae7-c3ca3d4a90c0",
   "metadata": {},
   "outputs": [
    {
     "ename": "TypeError",
     "evalue": "list indices must be integers or slices, not str",
     "output_type": "error",
     "traceback": [
      "\u001b[0;31m---------------------------------------------------------------------------\u001b[0m",
      "\u001b[0;31mTypeError\u001b[0m                                 Traceback (most recent call last)",
      "Input \u001b[0;32mIn [9]\u001b[0m, in \u001b[0;36m<cell line: 1>\u001b[0;34m()\u001b[0m\n\u001b[0;32m----> 1\u001b[0m \u001b[43mpalette\u001b[49m\u001b[38;5;241;43m.\u001b[39;49m\u001b[43mget_intermediate_colors\u001b[49m\u001b[43m(\u001b[49m\u001b[38;5;124;43m\"\u001b[39;49m\u001b[38;5;124;43mcolor6\u001b[39;49m\u001b[38;5;124;43m\"\u001b[39;49m\u001b[43m,\u001b[49m\u001b[43m \u001b[49m\u001b[38;5;124;43m\"\u001b[39;49m\u001b[38;5;124;43mcolor4\u001b[39;49m\u001b[38;5;124;43m\"\u001b[39;49m\u001b[43m,\u001b[49m\u001b[43m \u001b[49m\u001b[43mnum_colors\u001b[49m\u001b[38;5;241;43m=\u001b[39;49m\u001b[38;5;241;43m2\u001b[39;49m\u001b[43m)\u001b[49m\n",
      "File \u001b[0;32m~/miniconda3/envs/compspace/lib/python3.10/site-packages/pychromatic-0.5.15-py3.10.egg/pychromatic/palette.py:137\u001b[0m, in \u001b[0;36mPalette.get_intermediate_colors\u001b[0;34m(self, clr1, clr2, num_colors, names)\u001b[0m\n\u001b[1;32m    135\u001b[0m color2 \u001b[38;5;241m=\u001b[39m \u001b[38;5;28mgetattr\u001b[39m(\u001b[38;5;28mself\u001b[39m, clr2)        \n\u001b[1;32m    136\u001b[0m clrlist \u001b[38;5;241m=\u001b[39m \u001b[38;5;28mself\u001b[39m\u001b[38;5;241m.\u001b[39mutils\u001b[38;5;241m.\u001b[39mfind_intermediate_colors(color1\u001b[38;5;241m.\u001b[39mhex, color2\u001b[38;5;241m.\u001b[39mhex, colors\u001b[38;5;241m=\u001b[39mnum_colors, ignore_edges\u001b[38;5;241m=\u001b[39m\u001b[38;5;28;01mTrue\u001b[39;00m)\n\u001b[0;32m--> 137\u001b[0m clrobjlist \u001b[38;5;241m=\u001b[39m [Color(hexv, name\u001b[38;5;241m=\u001b[39mnames[count]) \u001b[38;5;28;01mfor\u001b[39;00m hexv, count \u001b[38;5;129;01min\u001b[39;00m \u001b[38;5;28menumerate\u001b[39m(clrlist)]\n\u001b[1;32m    138\u001b[0m \u001b[38;5;28;01mfor\u001b[39;00m c \u001b[38;5;129;01min\u001b[39;00m clrobjlist:\n\u001b[1;32m    139\u001b[0m     \u001b[38;5;28mself\u001b[39m\u001b[38;5;241m.\u001b[39mcolors\u001b[38;5;241m.\u001b[39mappend(c)\n",
      "File \u001b[0;32m~/miniconda3/envs/compspace/lib/python3.10/site-packages/pychromatic-0.5.15-py3.10.egg/pychromatic/palette.py:137\u001b[0m, in \u001b[0;36m<listcomp>\u001b[0;34m(.0)\u001b[0m\n\u001b[1;32m    135\u001b[0m color2 \u001b[38;5;241m=\u001b[39m \u001b[38;5;28mgetattr\u001b[39m(\u001b[38;5;28mself\u001b[39m, clr2)        \n\u001b[1;32m    136\u001b[0m clrlist \u001b[38;5;241m=\u001b[39m \u001b[38;5;28mself\u001b[39m\u001b[38;5;241m.\u001b[39mutils\u001b[38;5;241m.\u001b[39mfind_intermediate_colors(color1\u001b[38;5;241m.\u001b[39mhex, color2\u001b[38;5;241m.\u001b[39mhex, colors\u001b[38;5;241m=\u001b[39mnum_colors, ignore_edges\u001b[38;5;241m=\u001b[39m\u001b[38;5;28;01mTrue\u001b[39;00m)\n\u001b[0;32m--> 137\u001b[0m clrobjlist \u001b[38;5;241m=\u001b[39m [Color(hexv, name\u001b[38;5;241m=\u001b[39m\u001b[43mnames\u001b[49m\u001b[43m[\u001b[49m\u001b[43mcount\u001b[49m\u001b[43m]\u001b[49m) \u001b[38;5;28;01mfor\u001b[39;00m hexv, count \u001b[38;5;129;01min\u001b[39;00m \u001b[38;5;28menumerate\u001b[39m(clrlist)]\n\u001b[1;32m    138\u001b[0m \u001b[38;5;28;01mfor\u001b[39;00m c \u001b[38;5;129;01min\u001b[39;00m clrobjlist:\n\u001b[1;32m    139\u001b[0m     \u001b[38;5;28mself\u001b[39m\u001b[38;5;241m.\u001b[39mcolors\u001b[38;5;241m.\u001b[39mappend(c)\n",
      "\u001b[0;31mTypeError\u001b[0m: list indices must be integers or slices, not str"
     ]
    }
   ],
   "source": [
    "palette.get_intermediate_colors(\"color6\", \"color4\", num_colors=2)"
   ]
  },
  {
   "cell_type": "code",
   "execution_count": null,
   "id": "ee93ac0d-b41b-4916-9d5a-bde07a84bfca",
   "metadata": {},
   "outputs": [],
   "source": []
  }
 ],
 "metadata": {
  "kernelspec": {
   "display_name": "Python 3 (ipykernel)",
   "language": "python",
   "name": "python3"
  },
  "language_info": {
   "codemirror_mode": {
    "name": "ipython",
    "version": 3
   },
   "file_extension": ".py",
   "mimetype": "text/x-python",
   "name": "python",
   "nbconvert_exporter": "python",
   "pygments_lexer": "ipython3",
   "version": "3.10.5"
  }
 },
 "nbformat": 4,
 "nbformat_minor": 5
}
